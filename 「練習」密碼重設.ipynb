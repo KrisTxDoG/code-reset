{
 "cells": [
  {
   "cell_type": "code",
   "execution_count": 12,
   "metadata": {},
   "outputs": [
    {
     "name": "stdout",
     "output_type": "stream",
     "text": [
      "最多輸入3次密碼1\n",
      "最多還有 2 次機會\n",
      "最多輸入3次密碼1\n",
      "最多還有 1 次機會\n",
      "最多輸入3次密碼1\n",
      "最多還有 0 次機會\n"
     ]
    }
   ],
   "source": [
    "A = 3\n",
    "password = 'a123456'\n",
    "while True:\n",
    "    PW = input('最多輸入3次密碼')\n",
    "    if PW == password:\n",
    "        print('登入成功')\n",
    "        break\n",
    "    elif PW != 'a123456':\n",
    "        A = A-1\n",
    "        print('最多還有',A,'次機會')\n",
    "        \n",
    "        if A == 0:\n",
    "            break\n",
    "        \n",
    "    \n"
   ]
  },
  {
   "cell_type": "code",
   "execution_count": 16,
   "metadata": {},
   "outputs": [
    {
     "name": "stdout",
     "output_type": "stream",
     "text": [
      "最多輸入3次密碼2\n",
      "密碼錯誤\n",
      "最多還有 2 次機會\n",
      "最多輸入3次密碼2\n",
      "密碼錯誤\n",
      "最多還有 1 次機會\n",
      "最多輸入3次密碼2\n",
      "密碼錯誤\n"
     ]
    }
   ],
   "source": [
    "A = 3\n",
    "password = 'a123456'\n",
    "while A > 0:\n",
    "    A = A-1\n",
    "    PW = input('請輸入密碼')\n",
    "    if PW == password:\n",
    "        print('登入成功')\n",
    "        break\n",
    "    elif PW != 'a123456':\n",
    "        print('密碼錯誤')\n",
    "        if A > 0:\n",
    "            print('最多還有',A,'次機會')\n",
    "        "
   ]
  },
  {
   "cell_type": "code",
   "execution_count": null,
   "metadata": {},
   "outputs": [],
   "source": []
  }
 ],
 "metadata": {
  "kernelspec": {
   "display_name": "Python 3",
   "language": "python",
   "name": "python3"
  },
  "language_info": {
   "codemirror_mode": {
    "name": "ipython",
    "version": 3
   },
   "file_extension": ".py",
   "mimetype": "text/x-python",
   "name": "python",
   "nbconvert_exporter": "python",
   "pygments_lexer": "ipython3",
   "version": "3.8.3"
  }
 },
 "nbformat": 4,
 "nbformat_minor": 4
}
